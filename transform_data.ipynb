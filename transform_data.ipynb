{
 "cells": [
  {
   "cell_type": "code",
   "execution_count": 2,
   "metadata": {
    "collapsed": true
   },
   "outputs": [],
   "source": [
    "import pandas as pd\n",
    "from bs4 import BeautifulSoup\n",
    "import requests\n",
    "import re\n",
    "import json\n",
    "import numpy as np"
   ]
  },
  {
   "cell_type": "markdown",
   "metadata": {},
   "source": [
    "# C.A.R.S. Chord\n",
    "\n",
    "The following code creates the matrix I used for [this](http://bl.ocks.org/easadler/f36fcd4ac676eec59bd5) visualization. It shows how cars were exchanged in the C.A.R.S. program by the automaker's nationality for the 7 countries with the largest presence.\n",
    "#### Steps\n",
    "1. Scrape wikipedia to get auto-makers by country \n",
    "2. Transform data to get matrix of sums: clunker country -> new vehicle country \n",
    "3. Format into matrix specified by D3 \n",
    "\n",
    "#### Technologies\n",
    "* scraping: (requests, BeautifulSoup, regex)\n",
    "* data manipulation: (Pandas, Numpy)"
   ]
  },
  {
   "cell_type": "markdown",
   "metadata": {
    "collapsed": false
   },
   "source": [
    "## 1. Scrape for automaker by country\n",
    "url: https://en.wikipedia.org/wiki/List_of_automobile_manufacturers"
   ]
  },
  {
   "cell_type": "code",
   "execution_count": 15,
   "metadata": {
    "collapsed": false
   },
   "outputs": [],
   "source": [
    "r = requests.get('https://en.wikipedia.org/wiki/List_of_automobile_manufacturers')"
   ]
  },
  {
   "cell_type": "code",
   "execution_count": 16,
   "metadata": {
    "collapsed": false
   },
   "outputs": [],
   "source": [
    "soup = BeautifulSoup(r.content, 'lxml')"
   ]
  },
  {
   "cell_type": "code",
   "execution_count": 17,
   "metadata": {
    "collapsed": false,
    "scrolled": true
   },
   "outputs": [],
   "source": [
    "# Parse html & create dictionary i.e. {automaker: Country}\n",
    "auto_maker_dict = dict()\n",
    "for headline in soup.findAll('h3'):\n",
    "    if re.search(r'\\[edit\\]$', headline.text.strip()):\n",
    "        country = headline.text[0:-6]\n",
    "        if headline.findNextSibling().text.strip() == 'Current[edit]':\n",
    "            for status in headline.findNextSiblings('ul', limit=2):\n",
    "                for maker in status.find_all('a'):\n",
    "                    auto_maker_dict[maker.text] = country               \n",
    "        else:\n",
    "            for maker in headline.find_next('ul').find_all('a'):\n",
    "                auto_maker_dict[maker.text] = country               \n"
   ]
  },
  {
   "cell_type": "code",
   "execution_count": 18,
   "metadata": {
    "collapsed": true
   },
   "outputs": [],
   "source": [
    "# Change automakers to parent company\n",
    "manual_maker = {'Oldsmobile': 'Ford', 'Mercury': 'Ford', 'Merkur': 'Ford', 'Pontiac': 'General Motors', 'Plymouth': 'General Motors'}\n",
    "manual_country = {'General Motors': 'United States'}"
   ]
  },
  {
   "cell_type": "code",
   "execution_count": 19,
   "metadata": {
    "collapsed": true
   },
   "outputs": [],
   "source": [
    "# Add missing automakers\n",
    "for key, val in manual_country.iteritems():\n",
    "    auto_maker_dict[key] = val"
   ]
  },
  {
   "cell_type": "code",
   "execution_count": 20,
   "metadata": {
    "collapsed": true
   },
   "outputs": [],
   "source": [
    "# Create dataframe of automakers\n",
    "df_am = pd.DataFrame({'maker': auto_maker_dict.keys(),'country': auto_maker_dict.values()})"
   ]
  },
  {
   "cell_type": "markdown",
   "metadata": {},
   "source": [
    "## 2. Transform Data"
   ]
  },
  {
   "cell_type": "code",
   "execution_count": 39,
   "metadata": {
    "collapsed": false
   },
   "outputs": [],
   "source": [
    "df = pd.read_csv('data.txt')"
   ]
  },
  {
   "cell_type": "code",
   "execution_count": 22,
   "metadata": {
    "collapsed": false
   },
   "outputs": [
    {
     "data": {
      "text/plain": [
       "Index([u'vendor_id', u'dealer_name', u'address_line1', u'address_line2',\n",
       "       u'address_line3', u'address_line4', u'city', u'state', u'ZIP',\n",
       "       u'area_code', u'phone', u'invoice_id', u'invoice_num', u'invoice_date',\n",
       "       u'sale_date', u'disposal_status', u'disposal_facility_nmvtis_id',\n",
       "       u'disposal_facility_contact_info', u'sales_type', u'invoice_amount',\n",
       "       u'trade_in_VIN', u'trade_in_vehicle_category', u'trade_in_make',\n",
       "       u'trade_in_model', u'trade_in_year', u'trade_in_vehicle_drive_train',\n",
       "       u'trade_in_mileage', u'trade_in_title_state',\n",
       "       u'trade_in_registration_state', u'trade_in_registration_start',\n",
       "       u'trade_in_registration_end', u'trade_in_insurance_start',\n",
       "       u'trade_in_NMVTIS_flag', u'trade_in_odometer_reading',\n",
       "       u'new_vehicle_VIN_trunc', u'new_vehicle_category', u'new_vehicle_make',\n",
       "       u'new_vehicle_model', u'new_vehicle_year', u'new_vehicle_drive_train',\n",
       "       u'new_vehicle_car_mileage', u'new_vehicle_MSRP'],\n",
       "      dtype='object')"
      ]
     },
     "execution_count": 22,
     "metadata": {},
     "output_type": "execute_result"
    }
   ],
   "source": [
    "df.columns"
   ]
  },
  {
   "cell_type": "code",
   "execution_count": 40,
   "metadata": {
    "collapsed": true
   },
   "outputs": [],
   "source": [
    "# Change makers to parent type\n",
    "for key, val in manual_maker.iteritems():\n",
    "    df.ix[df['trade_in_make'] == key, 'trade_in_make'] = val\n",
    "    df.ix[df['new_vehicle_make'] == key, 'new_vehicle_make'] = val"
   ]
  },
  {
   "cell_type": "code",
   "execution_count": 41,
   "metadata": {
    "collapsed": true
   },
   "outputs": [],
   "source": [
    "# Subset to important columns\n",
    "df = df[['trade_in_make','new_vehicle_make']]"
   ]
  },
  {
   "cell_type": "code",
   "execution_count": 42,
   "metadata": {
    "collapsed": false
   },
   "outputs": [],
   "source": [
    "# Join automaker and main datasets twice to get country for both trade in and new vehicle\n",
    "df_c = df.merge(df_am, left_on = 'trade_in_make', right_on='maker').merge(df_am, left_on = 'new_vehicle_make', right_on='maker')"
   ]
  },
  {
   "cell_type": "code",
   "execution_count": 43,
   "metadata": {
    "collapsed": false
   },
   "outputs": [
    {
     "data": {
      "text/plain": [
       "Index([u'trade_in_make', u'new_vehicle_make', u'country_x', u'maker_x',\n",
       "       u'country_y', u'maker_y'],\n",
       "      dtype='object')"
      ]
     },
     "execution_count": 43,
     "metadata": {},
     "output_type": "execute_result"
    }
   ],
   "source": [
    "df_c.columns"
   ]
  },
  {
   "cell_type": "code",
   "execution_count": 44,
   "metadata": {
    "collapsed": true
   },
   "outputs": [],
   "source": [
    "# Subset to relevant columns\n",
    "df_c = df_c[['country_x', 'country_y']]"
   ]
  },
  {
   "cell_type": "code",
   "execution_count": 45,
   "metadata": {
    "collapsed": false
   },
   "outputs": [],
   "source": [
    "# Rename columns\n",
    "df_c.columns = ['trade_in','new_vehicle']"
   ]
  },
  {
   "cell_type": "code",
   "execution_count": 46,
   "metadata": {
    "collapsed": false
   },
   "outputs": [],
   "source": [
    "# Add count columns & groupby to get sums\n",
    "df_c['count'] = 1\n",
    "df_cg = df_c.groupby(['trade_in', 'new_vehicle']).sum().reset_index()"
   ]
  },
  {
   "cell_type": "code",
   "execution_count": 34,
   "metadata": {
    "collapsed": false
   },
   "outputs": [],
   "source": [
    "# Pivot table to get sums by countries\n",
    "df_p = df_cg.pivot(index = 'trade_in', columns = 'new_vehicle', values = 'count')\n",
    "df_p = df_p.fillna(0)"
   ]
  },
  {
   "cell_type": "code",
   "execution_count": 36,
   "metadata": {
    "collapsed": false
   },
   "outputs": [],
   "source": [
    "# Remove countries with too few counts to be seen on graph\n",
    "df_p = df_p.ix[~df_p.index.isin(['France', 'Italy']),:]"
   ]
  },
  {
   "cell_type": "code",
   "execution_count": null,
   "metadata": {
    "collapsed": true
   },
   "outputs": [],
   "source": [
    "# Fill in countries with zero new vehicles\n",
    "df_p['United Kingdom'] = 0"
   ]
  },
  {
   "cell_type": "markdown",
   "metadata": {},
   "source": [
    "## 3. Prepare for d"
   ]
  },
  {
   "cell_type": "code",
   "execution_count": 37,
   "metadata": {
    "collapsed": false
   },
   "outputs": [],
   "source": [
    "# Sort index & columns\n",
    "df_p = df_p.sort_index()\n",
    "df_p = df_p.reindex_axis(sorted(df_p.columns), axis=1)"
   ]
  },
  {
   "cell_type": "code",
   "execution_count": 38,
   "metadata": {
    "collapsed": false
   },
   "outputs": [],
   "source": [
    "### Create big matrix\n",
    "df_z = pd.DataFrame(data = np.zeros((len(df_p),len(df_p))), index = df_p.index)\n",
    "dd = pd.concat([df_z, df_p.T], axis = 1)\n",
    "dd.index = df_z.columns\n",
    "dd1 = pd.concat([df_p, df_z], axis = 1)\n",
    "dd1.columns = list(df_z.columns) + list(df_p.columns)\n",
    "df_final = pd.concat([dd, dd1], axis=0)"
   ]
  },
  {
   "cell_type": "code",
   "execution_count": 226,
   "metadata": {
    "collapsed": false
   },
   "outputs": [],
   "source": [
    "# Create json file of countries and colors (format of chord example) dataframe: name colors\n",
    "df_nc = pd.DataFrame(data = [(name, color) for name, color in zip(list(df_p.columns) + list(df_p.columns), range(len(df_temp)*2))], columns= ['name', 'color'])\n",
    "\n",
    "df_nc.to_json('countries.json',orient='records')"
   ]
  },
  {
   "cell_type": "code",
   "execution_count": 227,
   "metadata": {
    "collapsed": false
   },
   "outputs": [],
   "source": [
    "# save final matrix\n",
    "with open('matrix.json', 'w') as f:\n",
    "    f.write(json.dumps(df_final.values.astype(int).tolist()))"
   ]
  }
 ],
 "metadata": {
  "kernelspec": {
   "display_name": "Python 2",
   "language": "python",
   "name": "python2"
  },
  "language_info": {
   "codemirror_mode": {
    "name": "ipython",
    "version": 2
   },
   "file_extension": ".py",
   "mimetype": "text/x-python",
   "name": "python",
   "nbconvert_exporter": "python",
   "pygments_lexer": "ipython2",
   "version": "2.7.10"
  }
 },
 "nbformat": 4,
 "nbformat_minor": 0
}
