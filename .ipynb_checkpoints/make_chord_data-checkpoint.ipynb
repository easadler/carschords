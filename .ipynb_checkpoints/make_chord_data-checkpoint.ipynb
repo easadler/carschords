{
 "cells": [
  {
   "cell_type": "code",
   "execution_count": 222,
   "metadata": {
    "collapsed": true
   },
   "outputs": [],
   "source": [
    "import pandas as pd\n",
    "from bs4 import BeautifulSoup\n",
    "import requests\n",
    "import re\n",
    "import json"
   ]
  },
  {
   "cell_type": "markdown",
   "metadata": {},
   "source": [
    "### Check if Chord Diagram is Feasible\n"
   ]
  },
  {
   "cell_type": "code",
   "execution_count": 5,
   "metadata": {
    "collapsed": false
   },
   "outputs": [],
   "source": [
    "df_t = pd.read_excel('trade-in-vehicles.xls')"
   ]
  },
  {
   "cell_type": "code",
   "execution_count": 7,
   "metadata": {
    "collapsed": false
   },
   "outputs": [
    {
     "data": {
      "text/plain": [
       "Index([u'Trade_in_Vehicle_Category',             u'Trade_in_make',\n",
       "                  u'Trade_in_Model',             u'Trade_in_Year',\n",
       "                           u'Count'],\n",
       "      dtype='object')"
      ]
     },
     "execution_count": 7,
     "metadata": {},
     "output_type": "execute_result"
    }
   ],
   "source": [
    "df_t.columns"
   ]
  },
  {
   "cell_type": "code",
   "execution_count": 6,
   "metadata": {
    "collapsed": false
   },
   "outputs": [],
   "source": [
    "df_p = pd.read_excel('new-vehicles.xls')"
   ]
  },
  {
   "cell_type": "code",
   "execution_count": 8,
   "metadata": {
    "collapsed": false
   },
   "outputs": [
    {
     "data": {
      "text/plain": [
       "Index([u'New_Vehicle_Category',     u'New_Vehicle_Make',\n",
       "          u'New_Vehicle_Model',     u'New_Vehicle_Year',\n",
       "                      u'Count'],\n",
       "      dtype='object')"
      ]
     },
     "execution_count": 8,
     "metadata": {},
     "output_type": "execute_result"
    }
   ],
   "source": [
    "df_p.columns"
   ]
  },
  {
   "cell_type": "code",
   "execution_count": 9,
   "metadata": {
    "collapsed": true
   },
   "outputs": [],
   "source": [
    "df_t = df_t.groupby(['Trade_in_make'])['Count'].sum().reset_index()\n",
    "df_p = df_p.groupby(['New_Vehicle_Make'])['Count'].sum().reset_index()"
   ]
  },
  {
   "cell_type": "code",
   "execution_count": 16,
   "metadata": {
    "collapsed": false
   },
   "outputs": [
    {
     "name": "stdout",
     "output_type": "stream",
     "text": [
      "number unique trade-in makers: 60\n",
      "number unique new-vehicle makers: 35\n"
     ]
    }
   ],
   "source": [
    "print 'number unique trade-in makers:', len(df_t['Trade_in_make'].unique())\n",
    "print 'number unique new-vehicle makers:', len(df_p['New_Vehicle_Make'].unique())"
   ]
  },
  {
   "cell_type": "code",
   "execution_count": 30,
   "metadata": {
    "collapsed": false
   },
   "outputs": [
    {
     "name": "stdout",
     "output_type": "stream",
     "text": [
      "   Trade_in_make   Count\n",
      "19          Ford  195406\n",
      "13     Chevrolet  118562\n",
      "15         Dodge   74028\n",
      "29          Jeep   63368\n",
      "20           GMC   34486\n",
      "   Trade_in_make   Count\n",
      "19          Ford  195406\n",
      "13     Chevrolet  118562\n",
      "15         Dodge   74028\n",
      "29          Jeep   63368\n",
      "20           GMC   34486\n"
     ]
    }
   ],
   "source": [
    "print df_t.sort('Count', ascending = False).head()\n",
    "print df_t.sort('Count', ascending = False).head()"
   ]
  },
  {
   "cell_type": "code",
   "execution_count": 14,
   "metadata": {
    "collapsed": false
   },
   "outputs": [
    {
     "data": {
      "text/plain": [
       "35"
      ]
     },
     "execution_count": 14,
     "metadata": {},
     "output_type": "execute_result"
    }
   ],
   "source": [
    "# scrape for automaker by country: https://en.wikipedia.org/wiki/List_of_automobile_manufacturers"
   ]
  },
  {
   "cell_type": "code",
   "execution_count": 33,
   "metadata": {
    "collapsed": true
   },
   "outputs": [],
   "source": [
    "r = requests.get('https://en.wikipedia.org/wiki/List_of_automobile_manufacturers')"
   ]
  },
  {
   "cell_type": "code",
   "execution_count": 37,
   "metadata": {
    "collapsed": false
   },
   "outputs": [],
   "source": [
    "soup = BeautifulSoup(r.content, 'lxml')"
   ]
  },
  {
   "cell_type": "code",
   "execution_count": 93,
   "metadata": {
    "collapsed": false,
    "scrolled": true
   },
   "outputs": [],
   "source": [
    "auto_maker_dict = dict()\n",
    "for headline in soup.findAll('h3'):\n",
    "    if re.search(r'\\[edit\\]$', headline.text.strip()):\n",
    "        country = headline.text[0:-6]\n",
    "        if headline.findNextSibling().text.strip() == 'Current[edit]':\n",
    "            for status in headline.findNextSiblings('ul', limit=2):\n",
    "                for maker in status.find_all('a'):\n",
    "                    auto_maker_dict[maker.text] = country               \n",
    "        else:\n",
    "            for maker in headline.find_next('ul').find_all('a'):\n",
    "                auto_maker_dict[maker.text] = country               \n"
   ]
  },
  {
   "cell_type": "code",
   "execution_count": 108,
   "metadata": {
    "collapsed": false
   },
   "outputs": [
    {
     "data": {
      "text/plain": [
       "u'Germany'"
      ]
     },
     "execution_count": 108,
     "metadata": {},
     "output_type": "execute_result"
    }
   ],
   "source": [
    "auto_maker_dict['Audi']"
   ]
  },
  {
   "cell_type": "code",
   "execution_count": 171,
   "metadata": {
    "collapsed": false
   },
   "outputs": [],
   "source": [
    "df_am = pd.DataFrame({'maker': auto_maker_dict.keys(),'country': auto_maker_dict.values()})"
   ]
  },
  {
   "cell_type": "code",
   "execution_count": null,
   "metadata": {
    "collapsed": true
   },
   "outputs": [],
   "source": [
    "# make matrix for chord"
   ]
  },
  {
   "cell_type": "code",
   "execution_count": 411,
   "metadata": {
    "collapsed": false
   },
   "outputs": [],
   "source": [
    "df = pd.read_csv('data.txt')"
   ]
  },
  {
   "cell_type": "code",
   "execution_count": 104,
   "metadata": {
    "collapsed": false
   },
   "outputs": [
    {
     "data": {
      "text/plain": [
       "Index([u'vendor_id', u'dealer_name', u'address_line1', u'address_line2',\n",
       "       u'address_line3', u'address_line4', u'city', u'state', u'ZIP',\n",
       "       u'area_code', u'phone', u'invoice_id', u'invoice_num', u'invoice_date',\n",
       "       u'sale_date', u'disposal_status', u'disposal_facility_nmvtis_id',\n",
       "       u'disposal_facility_contact_info', u'sales_type', u'invoice_amount',\n",
       "       u'trade_in_VIN', u'trade_in_vehicle_category', u'trade_in_make',\n",
       "       u'trade_in_model', u'trade_in_year', u'trade_in_vehicle_drive_train',\n",
       "       u'trade_in_mileage', u'trade_in_title_state',\n",
       "       u'trade_in_registration_state', u'trade_in_registration_start',\n",
       "       u'trade_in_registration_end', u'trade_in_insurance_start',\n",
       "       u'trade_in_NMVTIS_flag', u'trade_in_odometer_reading',\n",
       "       u'new_vehicle_VIN_trunc', u'new_vehicle_category', u'new_vehicle_make',\n",
       "       u'new_vehicle_model', u'new_vehicle_year', u'new_vehicle_drive_train',\n",
       "       u'new_vehicle_car_mileage', u'new_vehicle_MSRP'],\n",
       "      dtype='object')"
      ]
     },
     "execution_count": 104,
     "metadata": {},
     "output_type": "execute_result"
    }
   ],
   "source": [
    "df.columns"
   ]
  },
  {
   "cell_type": "code",
   "execution_count": 277,
   "metadata": {
    "collapsed": true
   },
   "outputs": [],
   "source": [
    "df = df[['trade_in_make','new_vehicle_make']]"
   ]
  },
  {
   "cell_type": "code",
   "execution_count": 172,
   "metadata": {
    "collapsed": false
   },
   "outputs": [],
   "source": [
    "df_c = df.merge(df_am, left_on = 'trade_in_make', right_on='maker').merge(df_am, left_on = 'new_vehicle_make', right_on='maker')"
   ]
  },
  {
   "cell_type": "code",
   "execution_count": 173,
   "metadata": {
    "collapsed": false
   },
   "outputs": [
    {
     "data": {
      "text/plain": [
       "Index([u'trade_in_make', u'new_vehicle_make', u'country_x', u'maker_x',\n",
       "       u'country_y', u'maker_y'],\n",
       "      dtype='object')"
      ]
     },
     "execution_count": 173,
     "metadata": {},
     "output_type": "execute_result"
    }
   ],
   "source": [
    "df_c.columns"
   ]
  },
  {
   "cell_type": "code",
   "execution_count": 174,
   "metadata": {
    "collapsed": true
   },
   "outputs": [],
   "source": [
    "df_c = df_c[['country_x', 'country_y']]"
   ]
  },
  {
   "cell_type": "code",
   "execution_count": 279,
   "metadata": {
    "collapsed": false
   },
   "outputs": [],
   "source": [
    "df_c.columns = ['trade_in','new_vehicle']"
   ]
  },
  {
   "cell_type": "code",
   "execution_count": 176,
   "metadata": {
    "collapsed": false
   },
   "outputs": [],
   "source": [
    "df_test = df.merge(df_am, how='left', left_on = 'trade_in_make', right_on='maker')"
   ]
  },
  {
   "cell_type": "code",
   "execution_count": 177,
   "metadata": {
    "collapsed": false
   },
   "outputs": [],
   "source": [
    "df_test = df_test.ix[df_test['country'].isnull(),:]"
   ]
  },
  {
   "cell_type": "code",
   "execution_count": 178,
   "metadata": {
    "collapsed": false
   },
   "outputs": [
    {
     "data": {
      "text/plain": [
       "array(['Eagle', 'AM General', 'American Motors Corporation',\n",
       "       'Import Trade Services', 'J.K. Motors', 'Sterling',\n",
       "       'Lambda Control Systems', 'Austin Rover', 'Laforza Automobile Inc',\n",
       "       'Wallace Environmental', 'ASC Incorporated', 'TVR Engineering Ltd',\n",
       "       'Excalibur Autos', 'Roush Performance', 'Saturn', 'Federal Coach',\n",
       "       'PAS, Inc/GMC', 'CCC Engineering', 'Aurora Cars Ltd'], dtype=object)"
      ]
     },
     "execution_count": 178,
     "metadata": {},
     "output_type": "execute_result"
    }
   ],
   "source": [
    "df_test['trade_in_make'].unique()"
   ]
  },
  {
   "cell_type": "code",
   "execution_count": 167,
   "metadata": {
    "collapsed": false
   },
   "outputs": [
    {
     "data": {
      "text/html": [
       "<div style=\"max-height:1000px;max-width:1500px;overflow:auto;\">\n",
       "<table border=\"1\" class=\"dataframe\">\n",
       "  <thead>\n",
       "    <tr style=\"text-align: right;\">\n",
       "      <th></th>\n",
       "      <th>country</th>\n",
       "      <th>maker</th>\n",
       "    </tr>\n",
       "  </thead>\n",
       "  <tbody>\n",
       "    <tr>\n",
       "      <th>34</th>\n",
       "      <td>United States</td>\n",
       "      <td>Ford</td>\n",
       "    </tr>\n",
       "    <tr>\n",
       "      <th>83</th>\n",
       "      <td>Canada</td>\n",
       "      <td>Foremost</td>\n",
       "    </tr>\n",
       "    <tr>\n",
       "      <th>107</th>\n",
       "      <td>Latvia</td>\n",
       "      <td>Ford-Vairogs</td>\n",
       "    </tr>\n",
       "  </tbody>\n",
       "</table>\n",
       "</div>"
      ],
      "text/plain": [
       "           country         maker\n",
       "34   United States          Ford\n",
       "83          Canada      Foremost\n",
       "107         Latvia  Ford-Vairogs"
      ]
     },
     "execution_count": 167,
     "metadata": {},
     "output_type": "execute_result"
    }
   ],
   "source": [
    "df_am.ix[df_am['maker'].str.match('For'),:]"
   ]
  },
  {
   "cell_type": "code",
   "execution_count": 168,
   "metadata": {
    "collapsed": true
   },
   "outputs": [],
   "source": [
    "manual_maker = {'Oldsmobile': 'Ford', 'Mercury': 'Ford', 'Merkur': 'Ford', 'Pontiac': 'General Motors', 'Plymouth': 'General Motors'}\n",
    "manual_country = {'General Motors': 'United States'}"
   ]
  },
  {
   "cell_type": "code",
   "execution_count": 169,
   "metadata": {
    "collapsed": true
   },
   "outputs": [],
   "source": [
    "for key, val in manual_maker.iteritems():\n",
    "    df.ix[df['trade_in_make'] == key, 'trade_in_make'] = val\n",
    "    df.ix[df['new_vehicle_make'] == key, 'new_vehicle_make'] = val"
   ]
  },
  {
   "cell_type": "code",
   "execution_count": 170,
   "metadata": {
    "collapsed": true
   },
   "outputs": [],
   "source": [
    "for key, val in manual_country.iteritems():\n",
    "    auto_maker_dict[key] = val"
   ]
  },
  {
   "cell_type": "code",
   "execution_count": 186,
   "metadata": {
    "collapsed": false
   },
   "outputs": [],
   "source": [
    "df_c['count'] = 1\n",
    "df_cg = df_c.groupby(['trade_in', 'new_vehicle']).count().reset_index()"
   ]
  },
  {
   "cell_type": "code",
   "execution_count": 189,
   "metadata": {
    "collapsed": false
   },
   "outputs": [],
   "source": [
    "df_p = df_cg.pivot(index = 'trade_in', columns = 'new_vehicle', values = 'count')\n",
    "df_p = df_p.fillna(0)"
   ]
  },
  {
   "cell_type": "code",
   "execution_count": 261,
   "metadata": {
    "collapsed": false
   },
   "outputs": [],
   "source": [
    "df_p['France'] = 0\n",
    "df_p['France'] = 0\n",
    "df_p['Italy'] = 0\n",
    "df_p['United Kingdom'] = 0\n",
    "df_p = df_p.sort_index()\n",
    "df_p = df_p.reindex_axis(sorted(df_p.columns), axis=1)"
   ]
  },
  {
   "cell_type": "code",
   "execution_count": 263,
   "metadata": {
    "collapsed": false
   },
   "outputs": [],
   "source": [
    "with open('matrix.json', 'w') as f:\n",
    "    f.write(json.dumps(df_p.values.transpose().astype(int).tolist()))"
   ]
  },
  {
   "cell_type": "code",
   "execution_count": 255,
   "metadata": {
    "collapsed": false
   },
   "outputs": [],
   "source": [
    "df_temp = df_p.reset_index()\n",
    "df_temp.rename(columns={'trade_in': 'name'}, inplace = True)\n",
    "df_temp['color'] = range(len(df_temp))\n",
    "df_temp = df_temp[['name', 'color']]\n",
    "df_temp.to_json('countries.json',orient='records')"
   ]
  },
  {
   "cell_type": "code",
   "execution_count": 436,
   "metadata": {
    "collapsed": false,
    "scrolled": true
   },
   "outputs": [],
   "source": [
    "df = pd.read_csv('data.txt')"
   ]
  },
  {
   "cell_type": "code",
   "execution_count": 437,
   "metadata": {
    "collapsed": false
   },
   "outputs": [],
   "source": [
    "df = df[['trade_in_make','new_vehicle_make']]\n",
    "df.columns = ['trade_in','new_vehicle']\n",
    "df['count'] = 1\n",
    "\n",
    "df_mg = df.groupby(['trade_in', 'new_vehicle']).count().reset_index()"
   ]
  },
  {
   "cell_type": "code",
   "execution_count": 438,
   "metadata": {
    "collapsed": false
   },
   "outputs": [],
   "source": [
    "df_temp = df_mg.groupby('trade_in').sum()\n",
    "makers_included = df_temp.ix[df_temp['count'] > 5000, :].index"
   ]
  },
  {
   "cell_type": "code",
   "execution_count": 439,
   "metadata": {
    "collapsed": false
   },
   "outputs": [],
   "source": [
    "df_p = df_mg.ix[(df_mg['count'] > 10) & (df_mg['trade_in'].isin(makers_included)) & (df_mg['new_vehicle'].isin(makers_included)), :].pivot(index = 'trade_in', columns = 'new_vehicle', values = 'count')\n",
    "df_p = df_p.fillna(0)\n"
   ]
  },
  {
   "cell_type": "code",
   "execution_count": 440,
   "metadata": {
    "collapsed": false
   },
   "outputs": [],
   "source": [
    "for col in df_p.index.difference(df_p.columns):\n",
    "    df_p[col] = 0"
   ]
  },
  {
   "cell_type": "code",
   "execution_count": 441,
   "metadata": {
    "collapsed": true
   },
   "outputs": [],
   "source": [
    "for row in df_p.columns.difference(df_p.index):\n",
    "    df_p.loc[row ,:] = 0"
   ]
  },
  {
   "cell_type": "code",
   "execution_count": 442,
   "metadata": {
    "collapsed": true
   },
   "outputs": [],
   "source": [
    "df_p = df_p.sort_index()\n",
    "df_p = df_p.reindex_axis(sorted(df_p.columns), axis=1)"
   ]
  },
  {
   "cell_type": "code",
   "execution_count": 443,
   "metadata": {
    "collapsed": true
   },
   "outputs": [],
   "source": [
    "with open('matrix1.json', 'w') as f:\n",
    "    f.write(json.dumps(df_p.values.astype(int).tolist()))"
   ]
  },
  {
   "cell_type": "code",
   "execution_count": 444,
   "metadata": {
    "collapsed": true
   },
   "outputs": [],
   "source": [
    "df_temp = df_p.reset_index()\n",
    "df_temp.rename(columns={'trade_in': 'name'}, inplace = True)\n",
    "df_temp['color'] = range(len(df_temp))\n",
    "df_temp = df_temp[['name', 'color']]\n",
    "df_temp.to_json('countries1.json',orient='records')"
   ]
  },
  {
   "cell_type": "code",
   "execution_count": null,
   "metadata": {
    "collapsed": true
   },
   "outputs": [],
   "source": []
  },
  {
   "cell_type": "code",
   "execution_count": 421,
   "metadata": {
    "collapsed": false
   },
   "outputs": [],
   "source": [
    "df = df[['trade_in_vehicle_category', 'new_vehicle_category']]\n",
    "df.columns = ['trade_in','new_vehicle']"
   ]
  },
  {
   "cell_type": "code",
   "execution_count": 422,
   "metadata": {
    "collapsed": false
   },
   "outputs": [],
   "source": [
    "df['count'] = 1\n",
    "df_ctg = df.groupby(['trade_in', 'new_vehicle']).count().reset_index()"
   ]
  },
  {
   "cell_type": "code",
   "execution_count": 423,
   "metadata": {
    "collapsed": true
   },
   "outputs": [],
   "source": [
    "df_p = df_ctg.pivot(index = 'trade_in', columns = 'new_vehicle', values = 'count')\n",
    "df_p = df_p.fillna(0)\n"
   ]
  },
  {
   "cell_type": "code",
   "execution_count": 424,
   "metadata": {
    "collapsed": true
   },
   "outputs": [],
   "source": [
    "for col in df_p.index.difference(df_p.columns):\n",
    "    df_p[col] = 0\n",
    "for row in df_p.columns.difference(df_p.index):\n",
    "    df_p.loc[row ,:] = 0"
   ]
  },
  {
   "cell_type": "code",
   "execution_count": 426,
   "metadata": {
    "collapsed": false
   },
   "outputs": [],
   "source": [
    "df_p = df_p.sort_index()\n",
    "df_p = df_p.reindex_axis(sorted(df_p.columns), axis=1)"
   ]
  },
  {
   "cell_type": "code",
   "execution_count": 427,
   "metadata": {
    "collapsed": true
   },
   "outputs": [],
   "source": [
    "with open('matrix2.json', 'w') as f:\n",
    "    f.write(json.dumps(df_p.values.transpose().astype(int).tolist()))"
   ]
  },
  {
   "cell_type": "code",
   "execution_count": 428,
   "metadata": {
    "collapsed": true
   },
   "outputs": [],
   "source": [
    "df_temp = df_p.reset_index()\n",
    "df_temp.rename(columns={'trade_in': 'name'}, inplace = True)\n",
    "df_temp['color'] = range(len(df_temp))\n",
    "df_temp = df_temp[['name', 'color']]\n",
    "df_temp.to_json('countries2.json',orient='records')"
   ]
  },
  {
   "cell_type": "code",
   "execution_count": null,
   "metadata": {
    "collapsed": true
   },
   "outputs": [],
   "source": []
  }
 ],
 "metadata": {
  "kernelspec": {
   "display_name": "Python 2",
   "language": "python",
   "name": "python2"
  },
  "language_info": {
   "codemirror_mode": {
    "name": "ipython",
    "version": 2
   },
   "file_extension": ".py",
   "mimetype": "text/x-python",
   "name": "python",
   "nbconvert_exporter": "python",
   "pygments_lexer": "ipython2",
   "version": "2.7.10"
  }
 },
 "nbformat": 4,
 "nbformat_minor": 0
}
